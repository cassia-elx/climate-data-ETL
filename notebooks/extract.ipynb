{
 "cells": [
  {
   "cell_type": "code",
   "execution_count": 1,
   "metadata": {},
   "outputs": [],
   "source": [
    "from time import sleep\n",
    "\n",
    "from selenium import webdriver\n",
    "from webdriver_manager.chrome import ChromeDriverManager\n",
    "from selenium.webdriver.common.keys import Keys\n",
    "from selenium.webdriver.chrome.options import Options\n",
    "\n",
    "import json\n",
    "\n",
    "import warnings\n",
    "warnings.filterwarnings('ignore')"
   ]
  },
  {
   "cell_type": "code",
   "execution_count": 12,
   "metadata": {},
   "outputs": [],
   "source": [
    "#pip install selenium"
   ]
  },
  {
   "cell_type": "code",
   "execution_count": 13,
   "metadata": {},
   "outputs": [],
   "source": [
    "#pip install webdriver-manager"
   ]
  },
  {
   "cell_type": "code",
   "execution_count": 2,
   "metadata": {},
   "outputs": [],
   "source": [
    "opciones= Options()\n",
    "opciones.add_experimental_option('excludeSwitches', ['enable-automation'])\n",
    "#para ocultarme como robot\n",
    "opciones.add_experimental_option('useAutomationExtension', False)\n",
    "opciones.add_argument('--start-maximized') #empezar maximizado\n",
    "opciones.add_argument('user.data-dir=selenium') #guarda las cookies\n",
    "opciones.add_argument('--incognito')#incognito window"
   ]
  },
  {
   "cell_type": "code",
   "execution_count": 3,
   "metadata": {},
   "outputs": [],
   "source": [
    "lista_ciudades = ['LEAL', 'CYOW', 'YPAD', 'EFHK']"
   ]
  },
  {
   "cell_type": "code",
   "execution_count": 4,
   "metadata": {},
   "outputs": [],
   "source": [
    "diccionario_url = {}\n",
    "for c in lista_ciudades:\n",
    "    diccionario_url[c] = []\n",
    "    for i in range(2002, 2023): \n",
    "        for n in range(1,13):\n",
    "            url = f'https://www.wunderground.com/history/monthly/{c}/date/{i}-{n}'\n",
    "            diccionario_url[c].append(url)"
   ]
  },
  {
   "cell_type": "code",
   "execution_count": 5,
   "metadata": {},
   "outputs": [],
   "source": [
    "diccionario_resultados = {}"
   ]
  },
  {
   "cell_type": "code",
   "execution_count": 20,
   "metadata": {},
   "outputs": [],
   "source": [
    "diccionario_resultados['Elche'] = []\n",
    "driver = webdriver.Chrome(ChromeDriverManager().install())\n",
    "for v in diccionario_url['LEAL']:\n",
    "    driver.get(v)\n",
    "    try:\n",
    "        driver.implicitly_wait(10)\n",
    "        driver.find_element('css selector', '#truste-consent-button').click()\n",
    "        sleep(4)\n",
    "    except:\n",
    "        pass\n",
    "    sleep(2)\n",
    "    try:\n",
    "        resultado = driver.find_element('css selector', '#inner-content > div.region-content-main > div.row > div:nth-child(5) > div:nth-child(1) > div > lib-city-history-observation > div > div.observation-table.ng-star-inserted > table').text\n",
    "        diccionario_resultados['Elche'].append(resultado)\n",
    "    except:\n",
    "        pass"
   ]
  },
  {
   "cell_type": "code",
   "execution_count": 21,
   "metadata": {},
   "outputs": [],
   "source": [
    "diccionario_resultados['Ottawa'] = []\n",
    "driver = webdriver.Chrome(ChromeDriverManager().install())\n",
    "for v in diccionario_url['CYOW']:\n",
    "    driver.get(v)\n",
    "    try:\n",
    "        driver.implicitly_wait(10)\n",
    "        driver.find_element('css selector', '#truste-consent-button').click()\n",
    "        sleep(4)\n",
    "    except:\n",
    "        pass\n",
    "    sleep(2)\n",
    "    try:\n",
    "        resultado = driver.find_element('css selector', '#inner-content > div.region-content-main > div.row > div:nth-child(5) > div:nth-child(1) > div > lib-city-history-observation > div > div.observation-table.ng-star-inserted > table').text\n",
    "        diccionario_resultados['Ottawa'].append(resultado)\n",
    "    except:\n",
    "        pass"
   ]
  },
  {
   "cell_type": "code",
   "execution_count": 22,
   "metadata": {},
   "outputs": [],
   "source": [
    "diccionario_resultados['Adelaide'] = []\n",
    "driver = webdriver.Chrome(ChromeDriverManager().install())\n",
    "for v in diccionario_url['YPAD']:\n",
    "    driver.get(v)\n",
    "    try:\n",
    "        driver.implicitly_wait(10)\n",
    "        driver.find_element('css selector', '#truste-consent-button').click()\n",
    "        sleep(4)\n",
    "    except:\n",
    "        pass\n",
    "    sleep(2)\n",
    "    try:\n",
    "        resultado = driver.find_element('css selector', '#inner-content > div.region-content-main > div.row > div:nth-child(5) > div:nth-child(1) > div > lib-city-history-observation > div > div.observation-table.ng-star-inserted > table').text\n",
    "        diccionario_resultados['Adelaide'].append(resultado)\n",
    "    except:\n",
    "        pass"
   ]
  },
  {
   "cell_type": "code",
   "execution_count": 6,
   "metadata": {},
   "outputs": [
    {
     "name": "stderr",
     "output_type": "stream",
     "text": [
      "[WDM] - Downloading: 100%|██████████| 6.30M/6.30M [00:00<00:00, 17.0MB/s]\n"
     ]
    }
   ],
   "source": [
    "diccionario_resultados['Helsinki'] = []\n",
    "driver = webdriver.Chrome(ChromeDriverManager().install())\n",
    "for v in diccionario_url['EFHK']:\n",
    "    driver.get(v)\n",
    "    try:\n",
    "        driver.implicitly_wait(10)\n",
    "        driver.find_element('css selector', '#truste-consent-button').click()\n",
    "        sleep(4)\n",
    "    except:\n",
    "        pass\n",
    "    sleep(2)\n",
    "    try:\n",
    "        resultado = driver.find_element('css selector', '#inner-content > div.region-content-main > div.row > div:nth-child(5) > div:nth-child(1) > div > lib-city-history-observation > div > div.observation-table.ng-star-inserted > table').text\n",
    "        diccionario_resultados['Helsinki'].append(resultado)\n",
    "    except:\n",
    "        pass"
   ]
  },
  {
   "cell_type": "code",
   "execution_count": 7,
   "metadata": {},
   "outputs": [],
   "source": [
    "with open(\"clima.json\", \"w\") as outfile:\n",
    "    json.dump(diccionario_resultados, outfile)"
   ]
  }
 ],
 "metadata": {
  "kernelspec": {
   "display_name": "base",
   "language": "python",
   "name": "python3"
  },
  "language_info": {
   "codemirror_mode": {
    "name": "ipython",
    "version": 3
   },
   "file_extension": ".py",
   "mimetype": "text/x-python",
   "name": "python",
   "nbconvert_exporter": "python",
   "pygments_lexer": "ipython3",
   "version": "3.10.11"
  },
  "orig_nbformat": 4
 },
 "nbformat": 4,
 "nbformat_minor": 2
}
