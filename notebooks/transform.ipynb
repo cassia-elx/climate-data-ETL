{
 "cells": [
  {
   "cell_type": "code",
   "execution_count": 1,
   "metadata": {},
   "outputs": [],
   "source": [
    "import pandas as pd\n",
    "import json\n",
    "import datetime as dt"
   ]
  },
  {
   "attachments": {},
   "cell_type": "markdown",
   "metadata": {},
   "source": [
    "# Limpieza"
   ]
  },
  {
   "cell_type": "code",
   "execution_count": 3,
   "metadata": {},
   "outputs": [],
   "source": [
    "# cargamos los datos\n",
    "\n",
    "with open('../datos/clima.json', 'r') as f:\n",
    "    clima_json = json.load(f)"
   ]
  },
  {
   "cell_type": "code",
   "execution_count": 4,
   "metadata": {},
   "outputs": [
    {
     "data": {
      "text/plain": [
       "dict_keys(['Elche', 'Ottawa', 'Adelaide', 'Helsinki'])"
      ]
     },
     "execution_count": 4,
     "metadata": {},
     "output_type": "execute_result"
    }
   ],
   "source": [
    "clima_json.keys()"
   ]
  },
  {
   "attachments": {},
   "cell_type": "markdown",
   "metadata": {},
   "source": [
    "Los datos están en un diccionario donde los keys son las ciudades, y los values son listas de strings. Cada string contiene los datos de un mes."
   ]
  },
  {
   "cell_type": "code",
   "execution_count": 5,
   "metadata": {},
   "outputs": [],
   "source": [
    "def crear_dataframes(json):\n",
    "    \n",
    "    dicc_df = {}\n",
    "    \n",
    "    # iteramos por el diccionario contenido en el json\n",
    "    for k, v in json.items():\n",
    "        \n",
    "        dicc_df[k] = []\n",
    "        \n",
    "        lista_df = []\n",
    "        lista_faltas = []\n",
    "        año = 2001\n",
    "        \n",
    "        # iteramos por cada string contenido en la lista de valores\n",
    "        # cada elemento es un string de los datos de un mes\n",
    "        for i in v:\n",
    "            # dividimos los datos por los saltos de linea\n",
    "            datos = i.split('\\n')\n",
    "\n",
    "            # definimos los nombres de las columnas (del dataframe que se va a crear) como la primera string de la nueva lista de datos\n",
    "            columnas = datos.pop(0).split(')')\n",
    "            for indice, columna in enumerate(columnas):\n",
    "                columnas[indice] = columna.strip().replace(' ', '_') + ')'\n",
    "            columnas.pop(-1)\n",
    "            \n",
    "            # creamos un diccionario donde los keys son los nombres de las columnas \n",
    "            dicc_datos = {}\n",
    "            dicc_datos['dias'] = []\n",
    "            for col in columnas:\n",
    "                dicc_datos[col] = []\n",
    "            \n",
    "            mes = datos[0]\n",
    "            if mes == \"Jan\":\n",
    "                año += 1\n",
    "                   \n",
    "            if len(datos) < 203:\n",
    "                lista_faltas.append((k, año, mes))\n",
    "\n",
    "                pass\n",
    "            else:\n",
    "                # iteramos por una lista de posibles valores de la longitud de un mes\n",
    "                # usamos este valor para sacar los datos segun los indices\n",
    "                for n in range(27,34):\n",
    "                    if datos[n] == 'Max Avg Min':\n",
    "                        for x, key in enumerate(dicc_datos.keys()):\n",
    "                            dicc_datos[key] = datos[x*n:x*n+n]\n",
    "                # creamos un dataframe de los datos\n",
    "                df = pd.DataFrame(dicc_datos)\n",
    "                \n",
    "                \n",
    "\n",
    "                # creamos una copia del dataframe\n",
    "                df2 = df.copy()\n",
    "                for col in df2.columns[1:-1]:\n",
    "                    try:\n",
    "                        df2[col] = df2[col].str.split(' ')\n",
    "\n",
    "                        # display(df2)\n",
    "\n",
    "                    except:\n",
    "                        print('error split:', k, mes, año)\n",
    "                \n",
    "                # dividimos las columnas que tienen datos combinados, usando la copia del dataframe\n",
    "                # para sacar los nombres de las columnas \n",
    "                try:\n",
    "                    for col in df.columns[1:-1]:\n",
    "                        col1 = f'{col}_{df2.loc[0,col][0]}'\n",
    "                        col2 = f'{col}_{df2.loc[0,col][1]}'\n",
    "                        col3 = f'{col}_{df2.loc[0,col][2]}'\n",
    "                        df[[col1, col2, col3]] = df[col].str.split(' ', expand=True)\n",
    "                        df.drop(col, axis=1, inplace=True)\n",
    "                except:\n",
    "                    print('error columnas:', k, mes, año)\n",
    "                    \n",
    "                # eliminamos la primera fila que ahora es redundante y ponemos la columna de dias como índice    \n",
    "                df.drop(0, axis=0, inplace=True)\n",
    "                df['Month'] = mes\n",
    "                df['Year'] = año\n",
    "                df['Date'] =  df['dias'] + \"-\" + mes + \"-\" + str(año)\n",
    "                # df.set_index('dias', inplace=True)\n",
    "                \n",
    "                lista_df.append(df)\n",
    "                if mes == 'Dec':\n",
    "                    df_año = pd.concat(lista_df, axis=0)\n",
    "                    # año += 1\n",
    "                    # display(df_año)\n",
    "                    dicc_df[k].append(df_año)\n",
    "        \n",
    "    print(f\"Meses que faltan: {lista_faltas}\")            \n",
    "    return dicc_df"
   ]
  },
  {
   "cell_type": "code",
   "execution_count": 6,
   "metadata": {},
   "outputs": [
    {
     "name": "stdout",
     "output_type": "stream",
     "text": [
      "Meses que faltan: [('Helsinki', 2004, 'Jan')]\n"
     ]
    }
   ],
   "source": [
    "# aplicamos la funcion al contenido del archivo de json que contiene los datos\n",
    "\n",
    "dicc_datos = crear_dataframes(clima_json)"
   ]
  },
  {
   "cell_type": "code",
   "execution_count": 7,
   "metadata": {},
   "outputs": [
    {
     "data": {
      "text/plain": [
       "dict_keys(['Elche', 'Ottawa', 'Adelaide', 'Helsinki'])"
      ]
     },
     "execution_count": 7,
     "metadata": {},
     "output_type": "execute_result"
    }
   ],
   "source": [
    "# comprobamos que se han creado todos los keys del diccionario de dataframes\n",
    "\n",
    "dicc_datos.keys()"
   ]
  },
  {
   "cell_type": "code",
   "execution_count": 8,
   "metadata": {},
   "outputs": [],
   "source": [
    "# concatenamos los dataframes de cada ciudad\n",
    "\n",
    "for k, v in dicc_datos.items():\n",
    "    dicc_datos[k] = pd.concat(v, axis=0)"
   ]
  },
  {
   "cell_type": "code",
   "execution_count": 9,
   "metadata": {},
   "outputs": [],
   "source": [
    "# creamos una nueva columna de ciudad \n",
    "\n",
    "for k, v in dicc_datos.items():\n",
    "    v['City'] = k"
   ]
  },
  {
   "cell_type": "code",
   "execution_count": 10,
   "metadata": {},
   "outputs": [],
   "source": [
    "# creamos el dataframe final concatenando los cuatro dataframes de las ciudades\n",
    "\n",
    "df_final = pd.concat([dicc_datos['Elche'], dicc_datos['Adelaide'],\n",
    "                     dicc_datos['Helsinki'], dicc_datos['Ottawa']], axis=0)"
   ]
  },
  {
   "cell_type": "code",
   "execution_count": 11,
   "metadata": {},
   "outputs": [],
   "source": [
    "# cambiamos el tipo de datos de la columna de fechas a tipo datetime\n",
    "\n",
    "df_final['Date'] = df_final['Date'].apply(pd.to_datetime)"
   ]
  },
  {
   "cell_type": "code",
   "execution_count": 12,
   "metadata": {},
   "outputs": [
    {
     "data": {
      "text/plain": [
       "(336462, 21)"
      ]
     },
     "execution_count": 12,
     "metadata": {},
     "output_type": "execute_result"
    }
   ],
   "source": [
    "# comprobamos que el dataframe contiene todos los datos\n",
    "\n",
    "df_final.shape"
   ]
  },
  {
   "cell_type": "code",
   "execution_count": 13,
   "metadata": {},
   "outputs": [
    {
     "data": {
      "text/plain": [
       "dias                                 object\n",
       "Precipitation_(in)                   object\n",
       "Time_Temperature_(°F)_Max            object\n",
       "Time_Temperature_(°F)_Avg            object\n",
       "Time_Temperature_(°F)_Min            object\n",
       "Dew_Point_(°F)_Max                   object\n",
       "Dew_Point_(°F)_Avg                   object\n",
       "Dew_Point_(°F)_Min                   object\n",
       "Humidity_(%)_Max                     object\n",
       "Humidity_(%)_Avg                     object\n",
       "Humidity_(%)_Min                     object\n",
       "Wind_Speed_(mph)_Max                 object\n",
       "Wind_Speed_(mph)_Avg                 object\n",
       "Wind_Speed_(mph)_Min                 object\n",
       "Pressure_(in)_Max                    object\n",
       "Pressure_(in)_Avg                    object\n",
       "Pressure_(in)_Min                    object\n",
       "Month                                object\n",
       "Year                                  int64\n",
       "Date                         datetime64[ns]\n",
       "City                                 object\n",
       "dtype: object"
      ]
     },
     "execution_count": 13,
     "metadata": {},
     "output_type": "execute_result"
    }
   ],
   "source": [
    "# examinamos los tipos de datos\n",
    "\n",
    "df_final.dtypes"
   ]
  },
  {
   "cell_type": "code",
   "execution_count": 14,
   "metadata": {},
   "outputs": [],
   "source": [
    "# hacemos una lista de las columnas que son de tipo object que deberian ser tipo float\n",
    "\n",
    "columnas_num = ['Precipitation_(in)', 'Time_Temperature_(°F)_Max',\n",
    "       'Time_Temperature_(°F)_Avg', 'Time_Temperature_(°F)_Min',\n",
    "       'Dew_Point_(°F)_Max', 'Dew_Point_(°F)_Avg', 'Dew_Point_(°F)_Min',\n",
    "       'Humidity_(%)_Max', 'Humidity_(%)_Avg', 'Humidity_(%)_Min',\n",
    "       'Wind_Speed_(mph)_Max', 'Wind_Speed_(mph)_Avg', 'Wind_Speed_(mph)_Min',\n",
    "       'Pressure_(in)_Max', 'Pressure_(in)_Avg', 'Pressure_(in)_Min']"
   ]
  },
  {
   "cell_type": "code",
   "execution_count": 15,
   "metadata": {},
   "outputs": [],
   "source": [
    "# cambiamos estas columnas a tipo float\n",
    "\n",
    "for i in columnas_num:\n",
    "    df_final[i] = df_final[i].astype('float64')"
   ]
  },
  {
   "cell_type": "code",
   "execution_count": 16,
   "metadata": {},
   "outputs": [],
   "source": [
    "# funcion para convertir las temperaturas de Farenheit en Celsius\n",
    "\n",
    "def far_to_cel(columna):\n",
    "    try:\n",
    "        return round(((columna - 32) * (5/9)), 1)\n",
    "    except:\n",
    "        print(columna)\n",
    "        return columna"
   ]
  },
  {
   "cell_type": "code",
   "execution_count": 17,
   "metadata": {},
   "outputs": [],
   "source": [
    "# aplicamos la funcion de conversion a las columnas que contienen datos de temperaturas\n",
    "\n",
    "for i in ['Time_Temperature_(°F)_Max',\n",
    "       'Time_Temperature_(°F)_Avg', 'Time_Temperature_(°F)_Min',\n",
    "       'Dew_Point_(°F)_Max', 'Dew_Point_(°F)_Avg', 'Dew_Point_(°F)_Min']:\n",
    "    \n",
    "    df_final[i] = df_final[i].apply(far_to_cel)"
   ]
  },
  {
   "cell_type": "code",
   "execution_count": 18,
   "metadata": {},
   "outputs": [],
   "source": [
    "# aplicamos una lambda a la columna de precipitacion para convertirlo a milimetros\n",
    "\n",
    "df_final['Precipitation_(in)'] = df_final['Precipitation_(in)'].apply(lambda x: x * 25.4)"
   ]
  },
  {
   "cell_type": "code",
   "execution_count": 19,
   "metadata": {},
   "outputs": [],
   "source": [
    "# aplicamos una lambda a las columnas de presion atmosferica para convertirlas a hectoPascales\n",
    "\n",
    "for i in ['Pressure_(in)_Max', 'Pressure_(in)_Avg', 'Pressure_(in)_Min']:\n",
    "    df_final[i] = df_final[i].apply(lambda x: round(x * 33.86389))"
   ]
  },
  {
   "cell_type": "code",
   "execution_count": 20,
   "metadata": {},
   "outputs": [],
   "source": [
    "# aplicamos una lambda para convertir las velocidades de viento en kilometros por hora\n",
    "\n",
    "for i in ['Wind_Speed_(mph)_Max', 'Wind_Speed_(mph)_Avg', 'Wind_Speed_(mph)_Min']:\n",
    "    df_final[i] = df_final[i].apply(lambda y: round(y * 1.609344, 1))"
   ]
  },
  {
   "cell_type": "code",
   "execution_count": 21,
   "metadata": {},
   "outputs": [
    {
     "name": "stdout",
     "output_type": "stream",
     "text": [
      "'dias': 'dias', \n",
      "'Precipitation_(in)': 'Precipitation_(in)', \n",
      "'Time_Temperature_(°F)_Max': 'Time_Temperature_(°F)_Max', \n",
      "'Time_Temperature_(°F)_Avg': 'Time_Temperature_(°F)_Avg', \n",
      "'Time_Temperature_(°F)_Min': 'Time_Temperature_(°F)_Min', \n",
      "'Dew_Point_(°F)_Max': 'Dew_Point_(°F)_Max', \n",
      "'Dew_Point_(°F)_Avg': 'Dew_Point_(°F)_Avg', \n",
      "'Dew_Point_(°F)_Min': 'Dew_Point_(°F)_Min', \n",
      "'Humidity_(%)_Max': 'Humidity_(%)_Max', \n",
      "'Humidity_(%)_Avg': 'Humidity_(%)_Avg', \n",
      "'Humidity_(%)_Min': 'Humidity_(%)_Min', \n",
      "'Wind_Speed_(mph)_Max': 'Wind_Speed_(mph)_Max', \n",
      "'Wind_Speed_(mph)_Avg': 'Wind_Speed_(mph)_Avg', \n",
      "'Wind_Speed_(mph)_Min': 'Wind_Speed_(mph)_Min', \n",
      "'Pressure_(in)_Max': 'Pressure_(in)_Max', \n",
      "'Pressure_(in)_Avg': 'Pressure_(in)_Avg', \n",
      "'Pressure_(in)_Min': 'Pressure_(in)_Min', \n",
      "'Month': 'Month', \n",
      "'Year': 'Year', \n",
      "'Date': 'Date', \n",
      "'City': 'City', \n"
     ]
    }
   ],
   "source": [
    "# imprimimos las columnas en el formato de diccionario\n",
    "\n",
    "for col in df_final.columns:\n",
    "    print(f\"'{col}': '{col}', \")"
   ]
  },
  {
   "cell_type": "code",
   "execution_count": 22,
   "metadata": {},
   "outputs": [],
   "source": [
    "# renombramos las columnas para reflejar las nuevas unidades despues de las conversiones que hemos hecho\n",
    "\n",
    "df_final.rename(columns = {'dias': 'Day', \n",
    "                            'Precipitation_(in)': 'Precipitation_(mm)', \n",
    "                            'Time_Temperature_(°F)_Max': 'Temperature_(°C)_Max', \n",
    "                            'Time_Temperature_(°F)_Avg': 'Temperature_(°C)_Avg', \n",
    "                            'Time_Temperature_(°F)_Min': 'Temperature_(°C)_Min', \n",
    "                            'Dew_Point_(°F)_Max': 'Dew_Point_(°C)_Max', \n",
    "                            'Dew_Point_(°F)_Avg': 'Dew_Point_(°C)_Avg', \n",
    "                            'Dew_Point_(°F)_Min': 'Dew_Point_(°C)_Min', \n",
    "                            'Humidity_(%)_Max': 'Humidity_(%)_Max', \n",
    "                            'Humidity_(%)_Avg': 'Humidity_(%)_Avg', \n",
    "                            'Humidity_(%)_Min': 'Humidity_(%)_Min', \n",
    "                            'Wind_Speed_(mph)_Max': 'Wind_Speed_(kph)_Max', \n",
    "                            'Wind_Speed_(mph)_Avg': 'Wind_Speed_(kph)_Avg', \n",
    "                            'Wind_Speed_(mph)_Min': 'Wind_Speed_(kph)_Min', \n",
    "                            'Pressure_(in)_Max': 'Pressure_(hPa)_Max', \n",
    "                            'Pressure_(in)_Avg': 'Pressure_(hPa)_Avg', \n",
    "                            'Pressure_(in)_Min': 'Pressure_(hPa)_Min', \n",
    "                            'Month': 'Month', \n",
    "                            'Year': 'Year', \n",
    "                            'Date': 'Date', \n",
    "                            'City': 'City'}, inplace = True)"
   ]
  },
  {
   "cell_type": "code",
   "execution_count": 23,
   "metadata": {},
   "outputs": [],
   "source": [
    "# cambiamos las columnas de año, mes y dia a tipo datetime, basado en la columna fecha\n",
    "\n",
    "df_final['Year'] = df_final['Date'].apply(lambda x: x.strftime('%Y'))\n",
    "df_final['Month'] = df_final['Date'].apply(lambda x: x.strftime('%B'))\n",
    "df_final['Day'] = df_final['Date'].apply(lambda x: x.strftime('%-d'))"
   ]
  },
  {
   "cell_type": "code",
   "execution_count": 24,
   "metadata": {},
   "outputs": [],
   "source": [
    "# creamos una funcion para crear una columna de estaciones\n",
    "\n",
    "def estacion(x, ciudad):\n",
    "    if ciudad == 'Adelaide':\n",
    "        if x.strftime('%m-%d') <= '03-20':\n",
    "            return 'summer'\n",
    "        elif x.strftime('%m-%d') <= '06-20':\n",
    "            return 'autumn'\n",
    "        elif x.strftime('%m-%d') <= '09-20' :\n",
    "            return 'winter'\n",
    "        elif x.strftime('%m-%d') <= '12-20':\n",
    "            return 'spring'\n",
    "        elif x.strftime('%m-%d') <= '12-31':\n",
    "            return 'summer'\n",
    "    else:\n",
    "        if x.strftime('%m-%d') <= '03-20':\n",
    "            return 'winter'\n",
    "        elif x.strftime('%m-%d') <= '06-20':\n",
    "            return 'spring'\n",
    "        elif x.strftime('%m-%d') <= '09-20' :\n",
    "            return 'summer'\n",
    "        elif x.strftime('%m-%d') <= '12-20':\n",
    "            return 'autumn'\n",
    "        elif x.strftime('%m-%d') <= '12-31':\n",
    "            return 'winter'"
   ]
  },
  {
   "cell_type": "code",
   "execution_count": 25,
   "metadata": {},
   "outputs": [],
   "source": [
    "# aplicamos la funcion de estaciones\n",
    "\n",
    "df_final['Season'] = df_final.apply(lambda x: estacion(x['Date'], x['City']), axis=1)"
   ]
  },
  {
   "cell_type": "code",
   "execution_count": 26,
   "metadata": {},
   "outputs": [],
   "source": [
    "# reordenamos las columnas a una orden mas logica\n",
    "\n",
    "reorder = ['City', 'Date', 'Day', 'Month', 'Year', 'Season', 'Precipitation_(mm)', 'Temperature_(°C)_Max',\n",
    "       'Temperature_(°C)_Avg', 'Temperature_(°C)_Min', 'Dew_Point_(°C)_Max',\n",
    "       'Dew_Point_(°C)_Avg', 'Dew_Point_(°C)_Min', 'Humidity_(%)_Max',\n",
    "       'Humidity_(%)_Avg', 'Humidity_(%)_Min', 'Wind_Speed_(kph)_Max',\n",
    "       'Wind_Speed_(kph)_Avg', 'Wind_Speed_(kph)_Min', 'Pressure_(hPa)_Max',\n",
    "       'Pressure_(hPa)_Avg', 'Pressure_(hPa)_Min']\n",
    "\n",
    "df_final = df_final.reindex(columns = reorder)"
   ]
  },
  {
   "cell_type": "code",
   "execution_count": 27,
   "metadata": {},
   "outputs": [
    {
     "data": {
      "text/html": [
       "<div>\n",
       "<style scoped>\n",
       "    .dataframe tbody tr th:only-of-type {\n",
       "        vertical-align: middle;\n",
       "    }\n",
       "\n",
       "    .dataframe tbody tr th {\n",
       "        vertical-align: top;\n",
       "    }\n",
       "\n",
       "    .dataframe thead th {\n",
       "        text-align: right;\n",
       "    }\n",
       "</style>\n",
       "<table border=\"1\" class=\"dataframe\">\n",
       "  <thead>\n",
       "    <tr style=\"text-align: right;\">\n",
       "      <th></th>\n",
       "      <th>City</th>\n",
       "      <th>Date</th>\n",
       "      <th>Day</th>\n",
       "      <th>Month</th>\n",
       "      <th>Year</th>\n",
       "      <th>Season</th>\n",
       "      <th>Precipitation_(mm)</th>\n",
       "      <th>Temperature_(°C)_Max</th>\n",
       "      <th>Temperature_(°C)_Avg</th>\n",
       "      <th>Temperature_(°C)_Min</th>\n",
       "      <th>...</th>\n",
       "      <th>Dew_Point_(°C)_Min</th>\n",
       "      <th>Humidity_(%)_Max</th>\n",
       "      <th>Humidity_(%)_Avg</th>\n",
       "      <th>Humidity_(%)_Min</th>\n",
       "      <th>Wind_Speed_(kph)_Max</th>\n",
       "      <th>Wind_Speed_(kph)_Avg</th>\n",
       "      <th>Wind_Speed_(kph)_Min</th>\n",
       "      <th>Pressure_(hPa)_Max</th>\n",
       "      <th>Pressure_(hPa)_Avg</th>\n",
       "      <th>Pressure_(hPa)_Min</th>\n",
       "    </tr>\n",
       "  </thead>\n",
       "  <tbody>\n",
       "    <tr>\n",
       "      <th>1</th>\n",
       "      <td>Elche</td>\n",
       "      <td>2002-01-01</td>\n",
       "      <td>1</td>\n",
       "      <td>January</td>\n",
       "      <td>2002</td>\n",
       "      <td>winter</td>\n",
       "      <td>0.0</td>\n",
       "      <td>13.9</td>\n",
       "      <td>12.7</td>\n",
       "      <td>12.2</td>\n",
       "      <td>...</td>\n",
       "      <td>5.0</td>\n",
       "      <td>94.0</td>\n",
       "      <td>75.9</td>\n",
       "      <td>62.0</td>\n",
       "      <td>37.0</td>\n",
       "      <td>25.1</td>\n",
       "      <td>19.3</td>\n",
       "      <td>1023</td>\n",
       "      <td>1023</td>\n",
       "      <td>1019</td>\n",
       "    </tr>\n",
       "    <tr>\n",
       "      <th>2</th>\n",
       "      <td>Elche</td>\n",
       "      <td>2002-01-02</td>\n",
       "      <td>2</td>\n",
       "      <td>January</td>\n",
       "      <td>2002</td>\n",
       "      <td>winter</td>\n",
       "      <td>0.0</td>\n",
       "      <td>13.9</td>\n",
       "      <td>12.7</td>\n",
       "      <td>10.0</td>\n",
       "      <td>...</td>\n",
       "      <td>7.2</td>\n",
       "      <td>82.0</td>\n",
       "      <td>76.7</td>\n",
       "      <td>67.0</td>\n",
       "      <td>40.2</td>\n",
       "      <td>23.0</td>\n",
       "      <td>4.8</td>\n",
       "      <td>1023</td>\n",
       "      <td>1019</td>\n",
       "      <td>1019</td>\n",
       "    </tr>\n",
       "    <tr>\n",
       "      <th>3</th>\n",
       "      <td>Elche</td>\n",
       "      <td>2002-01-03</td>\n",
       "      <td>3</td>\n",
       "      <td>January</td>\n",
       "      <td>2002</td>\n",
       "      <td>winter</td>\n",
       "      <td>0.0</td>\n",
       "      <td>13.9</td>\n",
       "      <td>11.6</td>\n",
       "      <td>8.9</td>\n",
       "      <td>...</td>\n",
       "      <td>7.2</td>\n",
       "      <td>94.0</td>\n",
       "      <td>83.8</td>\n",
       "      <td>72.0</td>\n",
       "      <td>14.5</td>\n",
       "      <td>5.6</td>\n",
       "      <td>0.0</td>\n",
       "      <td>1019</td>\n",
       "      <td>1016</td>\n",
       "      <td>1013</td>\n",
       "    </tr>\n",
       "    <tr>\n",
       "      <th>4</th>\n",
       "      <td>Elche</td>\n",
       "      <td>2002-01-04</td>\n",
       "      <td>4</td>\n",
       "      <td>January</td>\n",
       "      <td>2002</td>\n",
       "      <td>winter</td>\n",
       "      <td>0.0</td>\n",
       "      <td>15.0</td>\n",
       "      <td>12.5</td>\n",
       "      <td>8.9</td>\n",
       "      <td>...</td>\n",
       "      <td>6.1</td>\n",
       "      <td>94.0</td>\n",
       "      <td>77.6</td>\n",
       "      <td>63.0</td>\n",
       "      <td>29.0</td>\n",
       "      <td>12.9</td>\n",
       "      <td>3.2</td>\n",
       "      <td>1023</td>\n",
       "      <td>1016</td>\n",
       "      <td>1013</td>\n",
       "    </tr>\n",
       "    <tr>\n",
       "      <th>5</th>\n",
       "      <td>Elche</td>\n",
       "      <td>2002-01-05</td>\n",
       "      <td>5</td>\n",
       "      <td>January</td>\n",
       "      <td>2002</td>\n",
       "      <td>winter</td>\n",
       "      <td>0.0</td>\n",
       "      <td>13.9</td>\n",
       "      <td>13.0</td>\n",
       "      <td>12.2</td>\n",
       "      <td>...</td>\n",
       "      <td>5.0</td>\n",
       "      <td>88.0</td>\n",
       "      <td>68.2</td>\n",
       "      <td>58.0</td>\n",
       "      <td>27.4</td>\n",
       "      <td>23.3</td>\n",
       "      <td>9.7</td>\n",
       "      <td>1029</td>\n",
       "      <td>1026</td>\n",
       "      <td>1023</td>\n",
       "    </tr>\n",
       "  </tbody>\n",
       "</table>\n",
       "<p>5 rows × 22 columns</p>\n",
       "</div>"
      ],
      "text/plain": [
       "    City       Date Day    Month  Year  Season  Precipitation_(mm)  \\\n",
       "1  Elche 2002-01-01   1  January  2002  winter                 0.0   \n",
       "2  Elche 2002-01-02   2  January  2002  winter                 0.0   \n",
       "3  Elche 2002-01-03   3  January  2002  winter                 0.0   \n",
       "4  Elche 2002-01-04   4  January  2002  winter                 0.0   \n",
       "5  Elche 2002-01-05   5  January  2002  winter                 0.0   \n",
       "\n",
       "   Temperature_(°C)_Max  Temperature_(°C)_Avg  Temperature_(°C)_Min  ...  \\\n",
       "1                  13.9                  12.7                  12.2  ...   \n",
       "2                  13.9                  12.7                  10.0  ...   \n",
       "3                  13.9                  11.6                   8.9  ...   \n",
       "4                  15.0                  12.5                   8.9  ...   \n",
       "5                  13.9                  13.0                  12.2  ...   \n",
       "\n",
       "   Dew_Point_(°C)_Min  Humidity_(%)_Max  Humidity_(%)_Avg  Humidity_(%)_Min  \\\n",
       "1                 5.0              94.0              75.9              62.0   \n",
       "2                 7.2              82.0              76.7              67.0   \n",
       "3                 7.2              94.0              83.8              72.0   \n",
       "4                 6.1              94.0              77.6              63.0   \n",
       "5                 5.0              88.0              68.2              58.0   \n",
       "\n",
       "   Wind_Speed_(kph)_Max  Wind_Speed_(kph)_Avg  Wind_Speed_(kph)_Min  \\\n",
       "1                  37.0                  25.1                  19.3   \n",
       "2                  40.2                  23.0                   4.8   \n",
       "3                  14.5                   5.6                   0.0   \n",
       "4                  29.0                  12.9                   3.2   \n",
       "5                  27.4                  23.3                   9.7   \n",
       "\n",
       "   Pressure_(hPa)_Max  Pressure_(hPa)_Avg  Pressure_(hPa)_Min  \n",
       "1                1023                1023                1019  \n",
       "2                1023                1019                1019  \n",
       "3                1019                1016                1013  \n",
       "4                1023                1016                1013  \n",
       "5                1029                1026                1023  \n",
       "\n",
       "[5 rows x 22 columns]"
      ]
     },
     "execution_count": 27,
     "metadata": {},
     "output_type": "execute_result"
    }
   ],
   "source": [
    "# examinamos el dataframe final\n",
    "\n",
    "df_final.head()"
   ]
  },
  {
   "cell_type": "code",
   "execution_count": 28,
   "metadata": {},
   "outputs": [],
   "source": [
    "# guardamos los datos en un csv\n",
    "\n",
    "df_final.to_csv('../datos/clima_2002-2022.csv')"
   ]
  }
 ],
 "metadata": {
  "kernelspec": {
   "display_name": "base",
   "language": "python",
   "name": "python3"
  },
  "language_info": {
   "codemirror_mode": {
    "name": "ipython",
    "version": 3
   },
   "file_extension": ".py",
   "mimetype": "text/x-python",
   "name": "python",
   "nbconvert_exporter": "python",
   "pygments_lexer": "ipython3",
   "version": "3.9.7"
  },
  "orig_nbformat": 4
 },
 "nbformat": 4,
 "nbformat_minor": 2
}
